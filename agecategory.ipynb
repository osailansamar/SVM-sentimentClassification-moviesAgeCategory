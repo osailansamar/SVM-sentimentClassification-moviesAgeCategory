{
 "cells": [
  {
   "cell_type": "code",
   "execution_count": 2,
   "metadata": {},
   "outputs": [
    {
     "name": "stderr",
     "output_type": "stream",
     "text": [
      "[nltk_data] Downloading package punkt to\n",
      "[nltk_data]     /Users/samaryaseen/nltk_data...\n",
      "[nltk_data]   Package punkt is already up-to-date!\n",
      "[nltk_data] Downloading package stopwords to\n",
      "[nltk_data]     /Users/samaryaseen/nltk_data...\n",
      "[nltk_data]   Package stopwords is already up-to-date!\n",
      "[nltk_data] Downloading package wordnet to\n",
      "[nltk_data]     /Users/samaryaseen/nltk_data...\n",
      "[nltk_data]   Package wordnet is already up-to-date!\n"
     ]
    },
    {
     "data": {
      "text/plain": [
       "True"
      ]
     },
     "execution_count": 2,
     "metadata": {},
     "output_type": "execute_result"
    }
   ],
   "source": [
    "import pandas as pd # for reading csv file\n",
    "import re # for preprocessing text\n",
    "import string # for preprocessing text\n",
    "from sklearn.feature_extraction.text import CountVectorizer # to create Bag of words\n",
    "from sklearn.model_selection import train_test_split  # for splitting data\n",
    "from sklearn.naive_bayes import GaussianNB # to bulid classifier model\n",
    "from sklearn.preprocessing import LabelEncoder # to convert classes to number \n",
    "from sklearn.metrics import accuracy_score # to calculate accuracy\n",
    "import nltk # for processing texts\n",
    "from nltk.corpus import stopwords # list of stop words\n",
    "nltk.download('punkt')\n",
    "nltk.download('stopwords')\n",
    "nltk.download('wordnet')"
   ]
  },
  {
   "cell_type": "code",
   "execution_count": 3,
   "metadata": {},
   "outputs": [],
   "source": [
    "data = pd.read_csv('agecategory.csv',engine='python')"
   ]
  },
  {
   "cell_type": "code",
   "execution_count": 4,
   "metadata": {},
   "outputs": [
    {
     "data": {
      "text/plain": [
       "(4930, 2)"
      ]
     },
     "execution_count": 4,
     "metadata": {},
     "output_type": "execute_result"
    }
   ],
   "source": [
    "data.shape"
   ]
  },
  {
   "cell_type": "code",
   "execution_count": 5,
   "metadata": {},
   "outputs": [
    {
     "data": {
      "text/plain": [
       "above 18     2465\n",
       "under age    2465\n",
       "Name: sentiment, dtype: int64"
      ]
     },
     "execution_count": 5,
     "metadata": {},
     "output_type": "execute_result"
    }
   ],
   "source": [
    "data.sentiment.value_counts()"
   ]
  },
  {
   "cell_type": "code",
   "execution_count": 6,
   "metadata": {},
   "outputs": [
    {
     "data": {
      "text/plain": [
       "review       0\n",
       "sentiment    0\n",
       "dtype: int64"
      ]
     },
     "execution_count": 6,
     "metadata": {},
     "output_type": "execute_result"
    }
   ],
   "source": [
    "data.isna().sum()"
   ]
  },
  {
   "cell_type": "code",
   "execution_count": 7,
   "metadata": {},
   "outputs": [
    {
     "data": {
      "text/plain": [
       "'Like those who listened to radio reports about the attack on Pearl Harbor, every one who has ever seen PINK FLAMINGOS can tell you exactly where they were when they first saw it--and some thirty years later the movie is still one of the most unspeakably vile, obnoxious, repulsive, and hilariously funny films ever put to celluloid, guaranteed to test the strongest stomachs and the toughest funny bones.<br /><br />Filmed with a close-to-zero budget and some of the shakiest cinematography around, PINK FLAMINGOS tells the story of two families that compete for the tabloid title of \"The Filthiest People Alive.\" Just how filthy can they be? Plenty: the film includes everything from sex with chickens to what I can only describe as a remarkable display of rectal control to a heaping helping of doggie doo, and I guarantee that you won\\'t want to eat an egg for at least several weeks after seeing it.<br /><br />The cast is either wonderful, atrocious, or atrociously wonderful, depending on how you look at it. The star, of course, is Divine... and to describe Divine as the BIGGEST drag queen on the planet would the understatement of the year. She is a mammoth creature given to BIG eye makeup, BIG orange hair, and BIG expressions--she is the Charleton Heston of drag, and whether she is almost running down a jogger, pausing to use the bathroom on some one\\'s front lawn, or startling real-life shoppers by taking a stroll along a Baltimore sidewalk she is both unspeakable and unspeakably funny. Others in the cast include Mary Vivian Pearce, Danny Mills, and the ever-appalling Edith Massey as members of Divine\\'s family; and Mink Stole and David Lochary as the white-slaving, baby-selling couple who challenge Divine\\'s status.<br /><br />It should be pretty obvious that PINK FLAMINGOS is not exactly a movie that will appeal to just every one, and viewers who know director John Waters only through such later films as HAIRSPRAY and CRYBABY will be in for a major jolt. But if you want to see something so completely different that even Monty Python couldn\\'t imagine it, this is the movie for you. Just make sure you eat before you see it, because you probably won\\'t want to eat afterward--and you might want to keep a barf bag handy just in case.<br /><br />Gary F. Taylor, aka GFT, Amazon Reviewer'"
      ]
     },
     "execution_count": 7,
     "metadata": {},
     "output_type": "execute_result"
    }
   ],
   "source": [
    "data['review'][20]"
   ]
  },
  {
   "cell_type": "code",
   "execution_count": 8,
   "metadata": {},
   "outputs": [],
   "source": [
    "def clean_text(text):\n",
    "  '''\n",
    "  DESCRIPTION:\n",
    "  This function to clean text \n",
    "  INPUT: \n",
    "  text: string\n",
    "  OUTPUT: \n",
    "  text: string after clean it\n",
    "  ''' \n",
    "  text = text.lower() # convert letters to lower case\n",
    "  text = re.sub(\"[^a-zA-Z]\", \" \", text) # remove non-letters\n",
    "  text = re.sub(r'\\d+', '', text) # remove number\n",
    "  text = re.sub(r'http\\S+', '', text) # remove links\n",
    "  text = text.translate(str.maketrans('','', string.punctuation)) # remove punctuation\n",
    "  text = re.sub(' +', ' ',text) # remove extra space\n",
    "  text = text.strip() # remove whitespaces\n",
    "\n",
    "  text = ' '.join([word for word in text.split() if word not in stopwords.words(\"english\")]) # remove stop words\n",
    "  lemma = nltk.WordNetLemmatizer() # define lemmatizer\n",
    "  text = ' '.join([lemma.lemmatize(word) for word in text.split()]) \n",
    "  return text\n"
   ]
  },
  {
   "cell_type": "code",
   "execution_count": 9,
   "metadata": {},
   "outputs": [],
   "source": [
    "# The cleaning function applied in all reviews\n",
    "data['review'] = data['review'].apply(clean_text)"
   ]
  },
  {
   "cell_type": "code",
   "execution_count": 10,
   "metadata": {},
   "outputs": [
    {
     "data": {
      "text/plain": [
       "array([[0, 0, 0, ..., 0, 0, 0],\n",
       "       [0, 0, 0, ..., 0, 0, 0],\n",
       "       [0, 0, 0, ..., 0, 0, 0],\n",
       "       ...,\n",
       "       [0, 0, 0, ..., 0, 0, 0],\n",
       "       [0, 0, 0, ..., 0, 0, 0],\n",
       "       [0, 0, 0, ..., 0, 0, 0]])"
      ]
     },
     "execution_count": 10,
     "metadata": {},
     "output_type": "execute_result"
    }
   ],
   "source": [
    "max_features = 1500\n",
    "count_vector = CountVectorizer(max_features = max_features)  \n",
    "X = count_vector.fit_transform(data['review']).toarray() \n",
    "X"
   ]
  },
  {
   "cell_type": "code",
   "execution_count": 11,
   "metadata": {},
   "outputs": [
    {
     "name": "stdout",
     "output_type": "stream",
     "text": [
      "most using 1500 words: ['ability', 'able', 'absolutely', 'academy', 'accent', 'accept', 'accident', 'across', 'act', 'acted', 'acting', 'action', 'actor', 'actress', 'actual', 'actually', 'adam', 'adaptation', 'add', 'added', 'addition', 'admit', 'adult', 'adventure', 'affair', 'age', 'agent', 'ago', 'agree', 'ahead', 'air', 'alice', 'alien', 'alive', 'allowed', 'almost', 'alone', 'along', 'already', 'also', 'although', 'always', 'amazing', 'america', 'american', 'among', 'amount', 'amusing', 'andy', 'animal', 'animated', 'animation', 'anime', 'ann', 'anna', 'anne', 'annoying', 'another', 'answer', 'anti', 'anyone', 'anything', 'anyway', 'apart', 'apartment', 'apparently', 'appeal', 'appear', 'appearance', 'appears', 'appreciate', 'approach', 'area', 'army', 'around', 'art', 'arthur', 'artist', 'artistic', 'aside', 'ask', 'asked', 'aspect', 'atmosphere', 'attack', 'attempt', 'attention', 'attitude', 'audience', 'available', 'average', 'award', 'away', 'awesome', 'baby', 'back', 'background', 'bad', 'ball', 'band', 'barbara', 'based', 'basic', 'basically', 'batman', 'battle', 'bear', 'beat', 'beautiful', 'beautifully', 'beauty', 'became', 'become', 'becomes', 'becoming', 'bed', 'begin', 'beginning', 'behavior', 'behind', 'belief', 'believable', 'believe', 'ben', 'besides', 'best', 'better', 'beyond', 'big', 'biggest', 'bill', 'billy', 'bird', 'bit', 'bizarre', 'black', 'blind', 'blood', 'bloody', 'blue', 'body', 'bond', 'book', 'boring', 'born', 'bos', 'bought', 'box', 'boy', 'boyfriend', 'br', 'brain', 'break', 'brian', 'brief', 'brilliant', 'brilliantly', 'bring', 'brings', 'british', 'broken', 'brother', 'brought', 'brown', 'bruno', 'brutal', 'buddy', 'budget', 'bug', 'build', 'building', 'bunch', 'business', 'buy', 'call', 'called', 'came', 'cameo', 'camera', 'camp', 'cannot', 'captain', 'capture', 'captured', 'car', 'care', 'career', 'carpenter', 'carry', 'cartoon', 'case', 'cast', 'casting', 'castle', 'cat', 'catch', 'caught', 'cause', 'center', 'central', 'century', 'certain', 'certainly', 'chance', 'change', 'changed', 'channel', 'character', 'charles', 'charlie', 'charm', 'charming', 'chase', 'cheap', 'check', 'cheesy', 'chemistry', 'child', 'childhood', 'chinese', 'choice', 'chris', 'christmas', 'christopher', 'church', 'cinderella', 'cinema', 'cinematic', 'cinematography', 'city', 'claim', 'class', 'classic', 'clean', 'clear', 'clearly', 'clever', 'clich', 'climax', 'clip', 'close', 'club', 'co', 'cold', 'collection', 'college', 'color', 'come', 'comedy', 'comic', 'coming', 'comment', 'commentary', 'committed', 'common', 'community', 'company', 'compare', 'compared', 'comparison', 'compelling', 'complete', 'completely', 'complex', 'computer', 'concept', 'conclusion', 'conflict', 'consider', 'considered', 'considering', 'constantly', 'contains', 'contemporary', 'content', 'continue', 'continues', 'contrast', 'control', 'conversation', 'convincing', 'cool', 'cop', 'copy', 'costume', 'could', 'count', 'country', 'couple', 'course', 'cover', 'crazy', 'create', 'created', 'creates', 'creating', 'creative', 'creature', 'credit', 'creepy', 'crew', 'crime', 'criminal', 'critic', 'cross', 'crowd', 'cry', 'cult', 'culture', 'cut', 'cute', 'dad', 'dance', 'dancing', 'dangerous', 'daniel', 'danny', 'dark', 'date', 'dated', 'daughter', 'david', 'day', 'de', 'dead', 'deal', 'dealing', 'death', 'decade', 'decent', 'decide', 'decided', 'decides', 'decision', 'deep', 'deeply', 'definitely', 'delightful', 'delivers', 'demon', 'depth', 'deserves', 'design', 'desire', 'despite', 'detail', 'detective', 'developed', 'development', 'dialog', 'dialogue', 'dick', 'die', 'died', 'difference', 'different', 'difficult', 'direct', 'directed', 'directing', 'direction', 'director', 'disappointed', 'discover', 'discovers', 'disney', 'display', 'disturbing', 'doctor', 'documentary', 'dog', 'done', 'door', 'doubt', 'dr', 'drama', 'dramatic', 'draw', 'drawn', 'dream', 'drive', 'drug', 'due', 'dvd', 'dy', 'dying', 'earlier', 'early', 'earth', 'easily', 'easy', 'ed', 'edge', 'editing', 'effect', 'effective', 'effort', 'either', 'element', 'else', 'emotion', 'emotional', 'emotionally', 'encounter', 'end', 'ended', 'ending', 'energy', 'engaging', 'english', 'enjoy', 'enjoyable', 'enjoyed', 'enough', 'entertaining', 'entertainment', 'entire', 'entirely', 'environment', 'epic', 'episode', 'equally', 'era', 'escape', 'especially', 'etc', 'even', 'event', 'eventually', 'ever', 'every', 'everybody', 'everyone', 'everything', 'evil', 'ex', 'exactly', 'example', 'excellent', 'except', 'exception', 'exciting', 'expect', 'expectation', 'expected', 'expecting', 'experience', 'experienced', 'expression', 'extra', 'extreme', 'extremely', 'eye', 'face', 'fact', 'fair', 'fairly', 'fall', 'falling', 'fame', 'familiar', 'family', 'famous', 'fan', 'fantastic', 'fantasy', 'far', 'fascinating', 'fashion', 'fast', 'father', 'favorite', 'favourite', 'fear', 'feature', 'feel', 'feeling', 'fellow', 'felt', 'female', 'festival', 'fi', 'fiction', 'fight', 'fighting', 'figure', 'filled', 'film', 'filmed', 'filmmaker', 'final', 'finally', 'find', 'finding', 'fine', 'finest', 'fire', 'first', 'fit', 'five', 'flashback', 'flat', 'flaw', 'flick', 'fly', 'flying', 'focus', 'folk', 'follow', 'following', 'follows', 'food', 'foot', 'footage', 'force', 'forced', 'forever', 'forget', 'forgotten', 'form', 'former', 'forward', 'found', 'four', 'fox', 'france', 'frank', 'free', 'freedom', 'french', 'fresh', 'friend', 'friendship', 'frightening', 'front', 'fulci', 'full', 'fully', 'fun', 'funniest', 'funny', 'future', 'gag', 'game', 'gang', 'gave', 'gay', 'gem', 'general', 'generally', 'generation', 'genius', 'genre', 'genuine', 'genuinely', 'george', 'german', 'get', 'getting', 'ghost', 'giant', 'girl', 'girlfriend', 'give', 'given', 'giving', 'glad', 'go', 'god', 'going', 'golden', 'gone', 'good', 'gore', 'gorgeous', 'got', 'government', 'grace', 'grade', 'grand', 'graphic', 'great', 'greatest', 'green', 'grew', 'ground', 'group', 'grow', 'growing', 'grown', 'guess', 'gun', 'guy', 'hair', 'half', 'hall', 'halloween', 'hand', 'hank', 'happen', 'happened', 'happening', 'happens', 'happy', 'hard', 'hardly', 'hate', 'haunting', 'head', 'hear', 'heard', 'heart', 'heavy', 'hell', 'help', 'henry', 'hero', 'heroine', 'hidden', 'high', 'highly', 'hilarious', 'hill', 'historical', 'history', 'hit', 'hitchcock', 'hitler', 'hoffman', 'hold', 'hole', 'hollywood', 'home', 'honest', 'hope', 'horrible', 'horror', 'horse', 'hospital', 'hot', 'hotel', 'hour', 'house', 'however', 'huge', 'human', 'humanity', 'humor', 'humorous', 'humour', 'hurt', 'husband', 'idea', 'image', 'imagination', 'imagine', 'imdb', 'immediately', 'impact', 'important', 'impossible', 'impressed', 'impressive', 'include', 'includes', 'including', 'incredible', 'incredibly', 'indeed', 'indian', 'individual', 'influence', 'information', 'innocent', 'inside', 'inspired', 'instead', 'intelligent', 'intended', 'intense', 'interest', 'interested', 'interesting', 'interview', 'intriguing', 'introduced', 'involved', 'involving', 'island', 'issue', 'italian', 'jack', 'jackson', 'james', 'jane', 'japanese', 'jason', 'jean', 'jerry', 'jewish', 'jim', 'job', 'joe', 'john', 'johnny', 'joke', 'jones', 'joseph', 'journey', 'joy', 'judge', 'jump', 'justice', 'keep', 'kelly', 'kept', 'key', 'kick', 'kid', 'kill', 'killed', 'killer', 'killing', 'kind', 'king', 'knew', 'know', 'knowing', 'knowledge', 'known', 'la', 'lack', 'lady', 'land', 'language', 'large', 'last', 'late', 'later', 'latter', 'laugh', 'laughing', 'law', 'le', 'lead', 'leader', 'leading', 'leaf', 'learn', 'learned', 'learns', 'least', 'leave', 'leaving', 'led', 'lee', 'left', 'legend', 'length', 'lesson', 'let', 'level', 'lie', 'life', 'light', 'likable', 'like', 'liked', 'likely', 'line', 'list', 'literally', 'little', 'live', 'lived', 'living', 'local', 'location', 'london', 'long', 'longer', 'look', 'looked', 'looking', 'lord', 'lose', 'lost', 'lot', 'louis', 'love', 'loved', 'lovely', 'lover', 'loving', 'low', 'lynch', 'machine', 'mad', 'made', 'magic', 'magical', 'magnificent', 'main', 'mainly', 'major', 'make', 'maker', 'making', 'male', 'man', 'manages', 'manner', 'many', 'mark', 'marriage', 'married', 'martin', 'mary', 'master', 'masterpiece', 'match', 'material', 'matt', 'matter', 'max', 'may', 'maybe', 'mean', 'meaning', 'meant', 'meanwhile', 'medium', 'meet', 'member', 'memorable', 'memory', 'men', 'mental', 'mention', 'mentioned', 'merely', 'message', 'michael', 'mickey', 'middle', 'might', 'mile', 'military', 'million', 'mind', 'mine', 'minor', 'minute', 'miss', 'missed', 'missing', 'mix', 'mixed', 'miyazaki', 'modern', 'mom', 'moment', 'money', 'monster', 'month', 'mood', 'moral', 'morning', 'mostly', 'mother', 'motion', 'mouse', 'move', 'moved', 'movement', 'movie', 'moving', 'mr', 'much', 'murder', 'murdered', 'music', 'musical', 'must', 'mysterious', 'mystery', 'naked', 'name', 'named', 'narrative', 'natural', 'nature', 'nazi', 'near', 'nearly', 'necessary', 'need', 'needed', 'negative', 'neighbor', 'never', 'new', 'next', 'nice', 'nicely', 'night', 'nightmare', 'nobody', 'noir', 'non', 'none', 'normal', 'note', 'nothing', 'notice', 'novel', 'nudity', 'number', 'obsessed', 'obvious', 'obviously', 'odd', 'offer', 'office', 'officer', 'often', 'oh', 'ok', 'okay', 'old', 'older', 'one', 'open', 'opening', 'opera', 'opinion', 'opportunity', 'order', 'ordinary', 'original', 'oscar', 'others', 'otherwise', 'outside', 'outstanding', 'overall', 'owner', 'pace', 'page', 'pain', 'pair', 'parent', 'paris', 'park', 'part', 'particular', 'particularly', 'party', 'passion', 'past', 'patient', 'paul', 'pay', 'people', 'perfect', 'perfectly', 'performance', 'perhaps', 'period', 'person', 'personal', 'personality', 'personally', 'perspective', 'peter', 'photography', 'physical', 'pick', 'picture', 'piece', 'pilot', 'place', 'plan', 'planet', 'play', 'played', 'player', 'playing', 'pleasant', 'please', 'pleasure', 'plenty', 'plot', 'plus', 'point', 'police', 'political', 'ponyo', 'poor', 'pop', 'popular', 'portrayal', 'portrayed', 'portrays', 'possible', 'possibly', 'post', 'potential', 'power', 'powerful', 'pre', 'predictable', 'premise', 'presence', 'present', 'presented', 'pretty', 'previous', 'prison', 'probably', 'problem', 'process', 'produced', 'producer', 'production', 'prof', 'project', 'prot', 'protagonist', 'provide', 'provided', 'provides', 'psychological', 'public', 'pull', 'pure', 'purpose', 'put', 'quality', 'queen', 'question', 'quick', 'quickly', 'quiet', 'quite', 'rabbit', 'race', 'radio', 'rape', 'rare', 'rate', 'rated', 'rather', 'rating', 'ray', 'reach', 'reaction', 'read', 'reading', 'real', 'realistic', 'reality', 'realize', 'really', 'reason', 'recent', 'recently', 'recommend', 'recommended', 'red', 'reference', 'relate', 'relationship', 'release', 'released', 'remains', 'remake', 'remarkable', 'remember', 'remembered', 'reminded', 'reminds', 'rent', 'respect', 'rest', 'result', 'return', 'revenge', 'review', 'reviewer', 'rich', 'richard', 'ride', 'ridiculous', 'right', 'ring', 'river', 'road', 'rob', 'robert', 'robot', 'rock', 'role', 'roll', 'romance', 'romantic', 'room', 'roy', 'rule', 'run', 'running', 'russian', 'ryan', 'sad', 'sadly', 'said', 'sam', 'save', 'saw', 'say', 'saying', 'scare', 'scared', 'scary', 'scene', 'scenery', 'school', 'sci', 'science', 'scientist', 'score', 'scott', 'scream', 'screen', 'screenplay', 'script', 'sea', 'search', 'season', 'seat', 'second', 'secret', 'see', 'seeing', 'seem', 'seemed', 'seemingly', 'seems', 'seen', 'segment', 'self', 'sell', 'sense', 'sensitive', 'sent', 'sequel', 'sequence', 'serial', 'series', 'serious', 'seriously', 'set', 'setting', 'seven', 'several', 'sex', 'sexual', 'sexuality', 'sexy', 'shadow', 'shame', 'share', 'ship', 'shock', 'shocking', 'shoot', 'shooting', 'shop', 'short', 'shot', 'show', 'showed', 'showing', 'shown', 'sick', 'side', 'sight', 'sign', 'silent', 'silly', 'similar', 'simple', 'simply', 'since', 'singer', 'singing', 'single', 'sister', 'sit', 'sitting', 'situation', 'six', 'skill', 'slasher', 'slightly', 'slow', 'slowly', 'small', 'smart', 'smile', 'smith', 'social', 'society', 'soft', 'soldier', 'solid', 'somehow', 'someone', 'something', 'sometimes', 'somewhat', 'son', 'song', 'soon', 'sort', 'soul', 'sound', 'soundtrack', 'south', 'soviet', 'space', 'speak', 'special', 'spent', 'spirit', 'spoiler', 'spot', 'stage', 'stand', 'standard', 'star', 'starring', 'start', 'started', 'state', 'station', 'stay', 'steal', 'step', 'stephen', 'steve', 'stewart', 'stick', 'still', 'stop', 'store', 'story', 'storyline', 'straight', 'strange', 'stranger', 'street', 'strength', 'strong', 'struggle', 'student', 'studio', 'study', 'stuff', 'stunning', 'stupid', 'style', 'subject', 'subtle', 'success', 'successful', 'suddenly', 'suicide', 'suit', 'summer', 'super', 'superb', 'superior', 'support', 'supporting', 'supposed', 'sure', 'surely', 'surprise', 'surprised', 'surprising', 'surprisingly', 'surreal', 'suspect', 'suspense', 'sweet', 'sympathetic', 'system', 'take', 'taken', 'taking', 'tale', 'talent', 'talented', 'talk', 'talking', 'taste', 'taylor', 'teacher', 'team', 'tear', 'technique', 'teen', 'teenage', 'teenager', 'television', 'tell', 'telling', 'ten', 'tension', 'term', 'terrible', 'terrific', 'texas', 'th', 'thank', 'thanks', 'theater', 'theatre', 'theme', 'thing', 'think', 'thinking', 'third', 'thomas', 'thoroughly', 'though', 'thought', 'three', 'thriller', 'throughout', 'throw', 'thrown', 'thus', 'tim', 'time', 'title', 'today', 'together', 'told', 'tom', 'tone', 'tony', 'took', 'top', 'torture', 'total', 'totally', 'touch', 'touching', 'tough', 'towards', 'town', 'toy', 'track', 'traditional', 'tragedy', 'tragic', 'trailer', 'train', 'travel', 'treat', 'trick', 'tried', 'trip', 'trouble', 'true', 'truly', 'truth', 'try', 'trying', 'tune', 'turn', 'turned', 'tv', 'twenty', 'twist', 'two', 'type', 'typical', 'ultimately', 'underrated', 'understand', 'understanding', 'unexpected', 'unfortunately', 'unique', 'unlike', 'unusual', 'upon', 'us', 'use', 'used', 'using', 'usual', 'usually', 'value', 'vampire', 'van', 'various', 'version', 'vhs', 'victim', 'video', 'view', 'viewer', 'viewing', 'village', 'villain', 'violence', 'violent', 'vision', 'visit', 'visual', 'visually', 'visuals', 'voice', 'von', 'wait', 'waiting', 'walk', 'wall', 'wallace', 'want', 'wanted', 'wanting', 'war', 'watch', 'watched', 'watching', 'water', 'wax', 'way', 'weak', 'week', 'weird', 'well', 'went', 'west', 'western', 'whatever', 'whether', 'whilst', 'white', 'whole', 'whose', 'wife', 'wild', 'william', 'willing', 'win', 'wind', 'winner', 'winter', 'wise', 'wish', 'witch', 'within', 'without', 'witness', 'woman', 'wonder', 'wonderful', 'wonderfully', 'wood', 'word', 'work', 'worked', 'worker', 'working', 'world', 'worse', 'worst', 'worth', 'would', 'wow', 'write', 'writer', 'writing', 'written', 'wrong', 'wrote', 'year', 'yes', 'yet', 'york', 'young', 'younger', 'youth', 'zombie'] \n"
     ]
    }
   ],
   "source": [
    "print(\"most using {} words: {} \".format(max_features, count_vector.get_feature_names()))\n"
   ]
  },
  {
   "cell_type": "code",
   "execution_count": 12,
   "metadata": {},
   "outputs": [
    {
     "name": "stdout",
     "output_type": "stream",
     "text": [
      "{'one': 931, 'reviewer': 1089, 'mentioned': 839, 'watching': 1439, 'episode': 420, 'right': 1094, 'exactly': 436, 'happened': 600, 'br': 150, 'first': 497, 'thing': 1330, 'scene': 1124, 'violence': 1419, 'set': 1161, 'word': 1475, 'go': 567, 'show': 1180, 'pull': 1034, 'drug': 381, 'sex': 1165, 'classic': 232, 'use': 1401, 'called': 175, 'given': 564, 'state': 1244, 'focus': 506, 'mainly': 803, 'city': 229, 'prison': 1018, 'front': 534, 'face': 453, 'high': 619, 'home': 632, 'many': 812, 'italian': 690, 'death': 327, 'dealing': 326, 'never': 900, 'far': 466, 'away': 92, 'would': 1484, 'say': 1119, 'main': 802, 'appeal': 66, 'due': 382, 'fact': 454, 'forget': 517, 'pretty': 1016, 'picture': 978, 'audience': 88, 'charm': 210, 'romance': 1104, 'around': 74, 'ever': 429, 'saw': 1118, 'surreal': 1292, 'watched': 1438, 'developed': 347, 'taste': 1306, 'got': 575, 'level': 761, 'graphic': 580, 'kill': 719, 'order': 937, 'get': 557, 'well': 1446, 'middle': 844, 'class': 231, 'turned': 1383, 'lack': 731, 'street': 1261, 'skill': 1202, 'experience': 446, 'may': 825, 'become': 112, 'viewing': 1416, 'touch': 1358, 'side': 1185, 'entire': 416, 'film': 487, 'protagonist': 1028, 'man': 809, 'non': 909, 'introduced': 685, 'start': 1242, 'living': 775, 'life': 763, 'hotel': 640, 'last': 736, 'ten': 1318, 'year': 1492, 'business': 172, 'yet': 1494, 'apparently': 65, 'take': 1298, 'place': 981, 'count': 286, 'tell': 1316, 'missing': 855, 'usual': 1404, 'full': 536, 'wanting': 1435, 'close': 240, 'meanwhile': 830, 'end': 404, 'without': 1468, 'fear': 473, 'caught': 196, 'ridiculous': 1093, 'truth': 1378, 'eventually': 428, 'done': 371, 'told': 1349, 'ultimately': 1390, 'love': 789, 'reason': 1064, 'behind': 119, 'beginning': 117, 'trouble': 1375, 'character': 207, 'even': 426, 'kind': 723, 'becomes': 113, 'point': 994, 'someone': 1217, 'care': 185, 'deeply': 335, 'decides': 332, 'feel': 475, 'half': 594, 'slow': 1205, 'indeed': 668, 'day': 322, 'night': 905, 'pace': 947, 'seemingly': 1146, 'detail': 345, 'however': 643, 'seemed': 1145, 'eye': 452, 'imagination': 654, 'loving': 793, 'feeling': 476, 'least': 751, 'thought': 1337, 'also': 39, 'sequence': 1156, 'interesting': 682, 'music': 881, 'theme': 1329, 'band': 99, 'especially': 424, 'contrast': 277, 'way': 1442, 'hollywood': 631, 'treat': 1371, 'since': 1193, 'release': 1073, 'le': 743, 'another': 57, 'element': 398, 'made': 798, 'unlike': 1397, 'us': 1400, 'emotional': 401, 'deep': 334, 'almost': 35, 'impossible': 660, 'cause': 197, 'young': 1496, 'sympathetic': 1296, 'played': 985, 'grand': 579, 'daughter': 320, 'anna': 54, 'memory': 835, 'best': 125, 'friend': 531, 'seen': 1148, 'provide': 1029, 'though': 1336, 'look': 781, 'know': 726, 'like': 766, 'single': 1196, 'time': 1345, 'nothing': 913, 'expectation': 443, 'fine': 494, 'small': 1207, 'quiet': 1043, 'taking': 1300, 'cinema': 226, 'second': 1140, 'world': 1480, 'waiting': 1429, 'la': 730, 'style': 1271, 'others': 941, 'white': 1453, 'fire': 496, 'amazing': 42, 'fantastic': 464, 'disturbing': 367, 'hilarious': 621, 'big': 128, 'enough': 413, 'event': 427, 'movie': 875, 'throughout': 1340, 'begin': 116, 'wood': 1474, 'country': 287, 'family': 461, 'soldier': 1214, 'costume': 284, 'shop': 1177, 'father': 470, 'mother': 869, 'real': 1059, 'sense': 1152, 'watch': 1437, 'make': 805, 'sure': 1286, 'roll': 1103, 'hill': 622, 'people': 963, 'attention': 86, 'shoot': 1175, 'dad': 311, 'alive': 33, 'mom': 860, 'kid': 718, 'running': 1110, 'foot': 512, 'give': 563, 'action': 11, 'form': 519, 'bizarre': 134, 'happy': 603, 'childhood': 218, 'hero': 616, 'fast': 469, 'forward': 521, 'honest': 633, 'age': 25, 'beautiful': 108, 'something': 1218, 'work': 1476, 'mine': 850, 'help': 614, 'good': 572, 'robert': 1099, 'drive': 380, 'relationship': 1072, 'seem': 1144, 'together': 1348, 'desire': 343, 'sister': 1197, 'line': 769, 'shame': 1170, 'naked': 886, 'killed': 720, 'hope': 634, 'find': 492, 'girl': 561, 'open': 932, 'door': 372, 'wrong': 1490, 'fan': 463, 'area': 72, 'new': 901, 'anyway': 62, 'lot': 787, 'fun': 538, 'great': 581, 'acting': 10, 'follow': 508, 'plot': 992, 'supposed': 1285, 'giant': 560, 'later': 738, 'special': 1232, 'really': 1063, 'everyone': 432, 'glad': 566, 'teenage': 1313, 'comedy': 248, 'come': 247, 'much': 878, 'every': 430, 'often': 925, 'might': 845, 'along': 37, 'funny': 540, 'entertaining': 414, 'memorable': 834, 'american': 44, 'found': 522, 'four': 523, 'follows': 510, 'three': 1338, 'david': 321, 'true': 1376, 'learn': 748, 'hard': 604, 'lesson': 759, 'value': 1406, 'friendship': 532, 'romantic': 1105, 'win': 1460, 'dream': 379, 'lead': 744, 'road': 1097, 'surprise': 1288, 'twist': 1386, 'ending': 406, 'see': 1142, 'mean': 827, 'song': 1222, 'keep': 713, 'moving': 876, 'truly': 1377, 'original': 939, 'among': 45, 'genre': 552, 'portrays': 1003, 'legend': 757, 'roy': 1107, 'early': 387, 'th': 1324, 'century': 200, 'actor': 12, 'role': 1102, 'excellent': 438, 'wife': 1456, 'mary': 817, 'woman': 1470, 'rob': 1098, 'passion': 958, 'need': 896, 'tim': 1344, 'evil': 434, 'perfect': 964, 'upon': 1399, 'scenery': 1125, 'environment': 418, 'quite': 1044, 'history': 624, 'enjoy': 410, 'blood': 137, 'telling': 1317, 'story': 1256, 'used': 1402, 'accent': 4, 'important': 659, 'actress': 13, 'actually': 15, 'various': 1409, 'name': 887, 'series': 1158, 'tale': 1301, 'going': 569, 'basic': 102, 'comic': 249, 'based': 101, 'underrated': 1391, 'favorite': 471, 'martin': 816, 'writer': 1487, 'co': 242, 'screenplay': 1134, 'apartment': 64, 'guy': 592, 'whose': 1455, 'either': 397, 'could': 285, 'play': 984, 'nice': 903, 'next': 902, 'creepy': 299, 'case': 190, 'die': 352, 'latter': 739, 'approach': 71, 'definitely': 336, 'doctor': 368, 'recently': 1066, 'affair': 24, 'office': 923, 'two': 1387, 'involved': 686, 'terrible': 1321, 'car': 184, 'accident': 6, 'making': 807, 'buddy': 166, 'looking': 783, 'worse': 1481, 'fight': 483, 'husband': 651, 'always': 41, 'subject': 1272, 'matter': 823, 'exception': 440, 'anything': 61, 'gore': 573, 'must': 883, 'bill': 130, 'mention': 838, 'john': 703, 'script': 1135, 'realize': 1062, 'think': 1331, 'lie': 762, 'bad': 97, 'effort': 396, 'display': 366, 'direction': 360, 'following': 509, 'season': 1138, 'extremely': 451, 'human': 645, 'view': 1414, 'average': 90, 'group': 586, 'fly': 504, 'wall': 1431, 'mind': 849, 'relate': 1071, 'moment': 861, 'party': 957, 'talking': 1305, 'complete': 261, 'stranger': 1260, 'believable': 121, 'situation': 1200, 'written': 1489, 'sound': 1226, 'track': 1364, 'put': 1037, 'superb': 1281, 'felt': 478, 'voice': 1426, 'reality': 1061, 'surprised': 1289, 'festival': 480, 'hear': 609, 'issue': 689, 'little': 772, 'old': 929, 'leave': 752, 'thinking': 1332, 'unique': 1396, 'job': 701, 'budget': 167, 'flat': 501, 'spoiler': 1235, 'five': 499, 'student': 1265, 'joe': 702, 'william': 1458, 'decide': 330, 'attempt': 85, 'dying': 385, 'minute': 852, 'amount': 46, 'brain': 151, 'black': 135, 'tv': 1384, 'screen': 1133, 'suicide': 1277, 'boy': 148, 'school': 1126, 'star': 1240, 'director': 361, 'already': 38, 'worked': 1477, 'lost': 786, 'better': 126, 'psychological': 1032, 'thriller': 1339, 'horror': 636, 'lover': 792, 'past': 959, 'minor': 851, 'respect': 1083, 'today': 1347, 'scream': 1132, 'premise': 1012, 'green': 583, 'performance': 966, 'artist': 77, 'local': 776, 'club': 241, 'fall': 457, 'fantasy': 465, 'turn': 1382, 'murder': 879, 'believe': 122, 'possible': 1004, 'master': 818, 'killing': 722, 'across': 7, 'appears': 69, 'within': 1467, 'committed': 253, 'took': 1353, 'asked': 81, 'particular': 955, 'difficult': 356, 'probably': 1019, 'read': 1057, 'comment': 251, 'large': 735, 'atmosphere': 83, 'interview': 683, 'career': 186, 'clear': 234, 'narrative': 889, 'trying': 1380, 'create': 292, 'whole': 1454, 'different': 355, 'type': 1388, 'reaction': 1056, 'decision': 333, 'admit': 21, 'head': 608, 'critic': 303, 'understand': 1392, 'directed': 358, 'merely': 840, 'considered': 269, 'whether': 1451, 'certainly': 202, 'key': 716, 'deal': 325, 'dialogue': 350, 'speak': 1231, 'personal': 970, 'meet': 832, 'rather': 1052, 'location': 777, 'score': 1130, 'liked': 767, 'although': 40, 'negative': 898, 'loved': 790, 'bit': 133, 'gorgeous': 574, 'equally': 421, 'total': 1356, 'playing': 987, 'tune': 1381, 'joke': 705, 'johnny': 704, 'stick': 1252, 'seems': 1147, 'talk': 1304, 'try': 1379, 'project': 1026, 'rest': 1084, 'long': 779, 'back': 95, 'month': 864, 'still': 1253, 'self': 1150, 'humor': 647, 'example': 437, 'thus': 1343, 'tom': 1350, 'earlier': 386, 'added': 19, 'coming': 250, 'left': 756, 'neighbor': 899, 'dog': 370, 'cannot': 180, 'hell': 613, 'expect': 442, 'page': 948, 'maybe': 826, 'bunch': 171, 'write': 1486, 'crazy': 291, 'late': 737, 'answer': 58, 'question': 1040, 'potential': 1007, 'post': 1006, 'god': 568, 'willing': 1459, 'wrote': 1491, 'named': 888, 'design': 342, 'major': 804, 'setting': 1162, 'obvious': 919, 'teacher': 1308, 'present': 1014, 'add': 18, 'male': 808, 'female': 479, 'individual': 670, 'society': 1212, 'direct': 357, 'gave': 545, 'showing': 1182, 'race': 1046, 'showed': 1181, 'shown': 1183, 'towards': 1361, 'rape': 1048, 'brings': 158, 'top': 1354, 'idea': 652, 'instead': 676, 'michael': 842, 'portrayal': 1001, 'youth': 1498, 'prof': 1025, 'act': 8, 'college': 245, 'getting': 558, 'piece': 979, 'book': 142, 'process': 1021, 'general': 548, 'space': 1230, 'park': 953, 'complex': 263, 'easy': 390, 'central': 199, 'vampire': 1407, 'body': 140, 'mix': 856, 'odd': 921, 'none': 910, 'incredible': 666, 'power': 1008, 'hour': 641, 'center': 198, 'happens': 602, 'ring': 1095, 'dy': 384, 'worker': 1478, 'return': 1086, 'hospital': 638, 'sick': 1184, 'unfortunately': 1395, 'typical': 1389, 'problem': 1020, 'animal': 49, 'taken': 1299, 'chance': 203, 'longer': 780, 'stay': 1246, 'forever': 516, 'else': 399, 'constantly': 271, 'part': 954, 'brilliant': 155, 'ground': 585, 'rule': 1108, 'nature': 891, 'aside': 79, 'sitting': 1199, 'theater': 1327, 'impressed': 661, 'straight': 1258, 'earth': 388, 'want': 1433, 'normal': 911, 'dark': 317, 'personally': 972, 'change': 204, 'cool': 281, 'kick': 717, 'wonderfully': 1473, 'stuff': 1268, 'outside': 943, 'couple': 288, 'mad': 797, 'perfectly': 965, 'capture': 182, 'emotion': 400, 'wanted': 1434, 'sad': 1113, 'depth': 340, 'tragic': 1367, 'break': 152, 'heart': 611, 'tone': 1351, 'several': 1164, 'material': 821, 'alien': 32, 'enjoyable': 411, 'conflict': 267, 'powerful': 1009, 'inside': 674, 'ship': 1172, 'science': 1128, 'fiction': 482, 'usually': 1405, 'interested': 681, 'military': 847, 'attitude': 87, 'crew': 300, 'inspired': 675, 'cast': 191, 'supporting': 1284, 'paul': 961, 'teenager': 1314, 'child': 217, 'fashion': 468, 'popular': 1000, 'sit': 1198, 'changed': 205, 'somewhat': 1220, 'mr': 877, 'company': 256, 'laugh': 740, 'wonder': 1471, 'addition': 20, 'person': 969, 'adult': 22, 'manner': 811, 'language': 734, 'strong': 1263, 'recommend': 1067, 'mood': 865, 'reading': 1058, 'review': 1088, 'viewer': 1415, 'missed': 854, 'delightful': 337, 'seeing': 1143, 'simply': 1192, 'ride': 1092, 'let': 760, 'modern': 859, 'live': 773, 'short': 1178, 'future': 541, 'alone': 36, 'knowing': 727, 'smile': 1209, 'went': 1447, 'wonderful': 1472, 'secret': 1141, 'except': 439, 'course': 289, 'version': 1410, 'soft': 1213, 'cut': 309, 'nudity': 916, 'sort': 1224, 'intended': 678, 'completely': 262, 'rated': 1051, 'etc': 425, 'appearance': 68, 'queen': 1039, 'batman': 104, 'easily': 389, 'literally': 771, 'absolutely': 2, 'check': 214, 'sweet': 1295, 'church': 224, 'lady': 732, 'attack': 84, 'intelligent': 677, 'hand': 597, 'hair': 593, 'run': 1109, 'money': 862, 'appreciate': 70, 'quick': 1041, 'flashback': 500, 'steve': 1250, 'singing': 1195, 'cameo': 177, 'everybody': 431, 'despite': 344, 'moral': 866, 'portrayed': 1002, 'likable': 765, 'weird': 1445, 'toy': 1363, 'collection': 244, 'feature': 474, 'million': 848, 'bos': 145, 'led': 754, 'ok': 927, 'wait': 1428, 'message': 841, 'oh': 926, 'please': 989, 'rating': 1053, 'particularly': 956, 'subtle': 1273, 'clever': 236, 'said': 1115, 'ask': 80, 'worth': 1483, 'likely': 768, 'men': 836, 'member': 833, 'concept': 265, 'ago': 27, 'english': 409, 'miss': 853, 'sent': 1154, 'team': 1309, 'frank': 526, 'rich': 1090, 'horse': 637, 'owner': 946, 'near': 893, 'chemistry': 216, 'george': 555, 'room': 1106, 'brother': 161, 'casting': 192, 'soon': 1223, 'force': 514, 'gang': 544, 'parent': 951, 'war': 1436, 'dangerous': 314, 'de': 323, 'everything': 433, 'former': 520, 'result': 1085, 'gay': 546, 'delivers': 338, 'pleasure': 990, 'sexuality': 1167, 'belief': 120, 'lose': 785, 'beauty': 110, 'shooting': 1176, 'dead': 324, 'sexual': 1166, 'fair': 455, 'finally': 491, 'soundtrack': 1227, 'includes': 664, 'amusing': 47, 'radio': 1047, 'filmed': 488, 'cinematography': 228, 'title': 1346, 'plenty': 991, 'remarkable': 1077, 'control': 278, 'week': 1444, 'biggest': 129, 'planet': 983, 'creature': 297, 'expression': 448, 'include': 663, 'danny': 316, 'baby': 94, 'water': 1440, 'imagine': 655, 'taylor': 1307, 'contains': 272, 'recent': 1065, 'bed': 115, 'allowed': 34, 'deserves': 341, 'andy': 48, 'familiar': 460, 'genuine': 553, 'ed': 391, 'unusual': 1398, 'alice': 31, 'plan': 982, 'strange': 1259, 'cheap': 213, 'yes': 1493, 'necessary': 895, 'game': 543, 'studio': 1266, 'slightly': 1204, 'teen': 1312, 'dramatic': 376, 'talent': 1302, 'unexpected': 1394, 'growing': 588, 'summer': 1279, 'camp': 179, 'hit': 625, 'sometimes': 1219, 'sexy': 1168, 'reminds': 1081, 'christmas': 222, 'indian': 669, 'matt': 822, 'bring': 157, 'expecting': 445, 'copy': 283, 'starring': 1241, 'surprising': 1290, 'leading': 746, 'heroine': 617, 'lee': 755, 'quality': 1038, 'married': 815, 'marriage': 814, 'falling': 458, 'british': 159, 'pilot': 980, 'western': 1449, 'third': 1333, 'gone': 571, 'surprisingly': 1291, 'edge': 392, 'seat': 1139, 'town': 1362, 'walk': 1430, 'working': 1479, 'drama': 375, 'totally': 1357, 'known': 729, 'extra': 449, 'segment': 1149, 'house': 642, 'island': 688, 'impressive': 662, 'spent': 1233, 'video': 1413, 'dvd': 383, 'suddenly': 1276, 'rare': 1049, 'gem': 547, 'released': 1074, 'interest': 680, 'peter': 974, 'shot': 1179, 'paris': 952, 'travel': 1370, 'older': 930, 'france': 525, 'anne': 55, 'offer': 922, 'jump': 711, 'cover': 290, 'looked': 782, 'quickly': 1042, 'silly': 1189, 'remains': 1075, 'personality': 971, 'pleasant': 988, 'boyfriend': 149, 'stop': 1254, 'hold': 629, 'huge': 644, 'dance': 312, 'available': 89, 'list': 770, 'artistic': 78, 'recommended': 1068, 'decided': 331, 'wow': 1485, 'cry': 306, 'number': 917, 'laughing': 741, 'incredibly': 667, 'reminded': 1080, 'castle': 193, 'award': 91, 'search': 1137, 'happen': 599, 'convincing': 280, 'touching': 1359, 'social': 1211, 'chris': 221, 'compelling': 260, 'documentary': 369, 'camera': 178, 'overall': 945, 'filmmaker': 489, 'opinion': 935, 'station': 1245, 'producer': 1023, 'blue': 139, 'ex': 435, 'billy': 131, 'girlfriend': 562, 'figure': 485, 'dancing': 313, 'basically': 103, 'carry': 188, 'remember': 1078, 'guess': 590, 'obviously': 920, 'needed': 897, 'boring': 143, 'purpose': 1036, 'able': 1, 'beautifully': 109, 'humour': 649, 'moved': 873, 'solid': 1215, 'beat': 107, 'wild': 1457, 'dr': 374, 'charming': 211, 'lovely': 791, 'expected': 444, 'drawn': 378, 'highly': 620, 'genuinely': 554, 'spot': 1236, 'opening': 933, 'train': 1369, 'richard': 1091, 'jean': 697, 'south': 1228, 'fascinating': 467, 'photography': 975, 'energy': 407, 'buy': 173, 'sell': 1151, 'final': 490, 'twenty': 1385, 'noir': 908, 'fox': 524, 'era': 422, 'cult': 307, 'revenge': 1087, 'dick': 351, 'battle': 105, 'robot': 1100, 'wish': 1465, 'knew': 725, 'creates': 294, 'masterpiece': 819, 'talented': 1303, 'genius': 551, 'vision': 1421, 'difference': 354, 'fully': 537, 'musical': 882, 'magnificent': 801, 'soul': 1225, 'giving': 565, 'academy': 3, 'reach': 1055, 'joy': 709, 'move': 872, 'created': 293, 'anyone': 60, 'previous': 1017, 'support': 1283, 'background': 96, 'famous': 462, 'pay': 962, 'greatest': 582, 'thank': 1325, 'dialog': 349, 'note': 912, 'certain': 201, 'hate': 606, 'immediately': 657, 'hall': 595, 'building': 170, 'whatever': 1450, 'demon': 339, 'chase': 212, 'heard': 610, 'television': 1315, 'medium': 831, 'entertainment': 415, 'air': 30, 'including': 665, 'color': 246, 'art': 75, 'becoming': 114, 'political': 996, 'public': 1033, 'low': 794, 'storyline': 1257, 'leaving': 753, 'van': 1408, 'choice': 220, 'fresh': 530, 'brutal': 165, 'rock': 1101, 'trick': 1372, 'image': 653, 'opera': 934, 'grade': 578, 'justice': 712, 'born': 144, 'share': 1171, 'annoying': 56, 'folk': 507, 'notice': 914, 'pick': 977, 'london': 778, 'player': 986, 'mile': 846, 'police': 995, 'stand': 1238, 'nicely': 904, 'impact': 658, 'cute': 310, 'bloody': 138, 'remake': 1076, 'stupid': 1270, 'sequel': 1155, 'humanity': 646, 'king': 724, 'manages': 810, 'term': 1320, 'jackson': 692, 'computer': 264, 'cartoon': 189, 'scientist': 1129, 'tony': 1352, 'villain': 1418, 'adventure': 23, 'monster': 863, 'horrible': 635, 'comparison': 259, 'crowd': 305, 'effect': 394, 'brought': 162, 'gun': 591, 'seriously': 1160, 'using': 1403, 'army': 73, 'spirit': 1234, 'suit': 1278, 'apart': 63, 'stage': 1237, 'animated': 50, 'murdered': 880, 'stephen': 1249, 'perhaps': 967, 'west': 1448, 'imdb': 656, 'contemporary': 273, 'period': 968, 'historical': 623, 'creative': 296, 'actual': 14, 'credit': 298, 'halloween': 596, 'forced': 515, 'escape': 423, 'decent': 329, 'store': 1255, 'compared': 258, 'extreme': 450, 'german': 556, 'hole': 630, 'patient': 960, 'okay': 928, 'production': 1024, 'opportunity': 936, 'encounter': 403, 'french': 529, 'trailer': 1368, 'tried': 1373, 'barbara': 100, 'law': 742, 'success': 1274, 'successful': 1275, 'pre': 1010, 'tragedy': 1366, 'slasher': 1203, 'killer': 721, 'plus': 993, 'effective': 395, 'smart': 1208, 'mysterious': 884, 'involving': 687, 'produced': 1022, 'son': 1221, 'brian': 153, 'filled': 486, 'hurt': 650, 'provides': 1031, 'natural': 890, 'entirely': 417, 'physical': 976, 'mental': 837, 'beyond': 127, 'throw': 1341, 'flaw': 502, 'agree': 28, 'became': 111, 'bought': 146, 'awesome': 93, 'commentary': 252, 'violent': 1420, 'cop': 282, 'behavior': 118, 'came': 176, 'chinese': 219, 'save': 1117, 'cat': 194, 'obsessed': 918, 'steal': 1247, 'victim': 1412, 'intense': 679, 'super': 1280, 'bug': 168, 'singer': 1194, 'whilst': 1452, 'pop': 999, 'mark': 813, 'brilliantly': 156, 'captured': 183, 'max': 824, 'russian': 1111, 'agent': 26, 'innocent': 673, 'provided': 1030, 'york': 1495, 'fellow': 477, 'silent': 1188, 'maker': 806, 'considering': 270, 'box': 147, 'shock': 1173, 'discover': 363, 'possibly': 1005, 'james': 693, 'sign': 1187, 'witch': 1466, 'similar': 1190, 'land': 733, 'younger': 1497, 'directing': 359, 'hot': 639, 'simple': 1191, 'pure': 1035, 'ordinary': 938, 'cheesy': 215, 'rate': 1050, 'zombie': 1499, 'flying': 505, 'detective': 346, 'cold': 243, 'started': 1243, 'thoroughly': 1335, 'scare': 1121, 'poor': 998, 'suspense': 1294, 'ghost': 559, 'aspect': 82, 'leader': 745, 'realistic': 1060, 'presence': 1013, 'stunning': 1269, 'disappointed': 362, 'enjoyed': 412, 'clearly': 235, 'continue': 275, 'doubt': 373, 'bear': 106, 'scared': 1122, 'novel': 915, 'shocking': 1174, 'predictable': 1011, 'otherwise': 942, 'meant': 829, 'kelly': 714, 'brown': 163, 'golden': 570, 'oscar': 940, 'motion': 870, 'culture': 308, 'ended': 405, 'charlie': 209, 'adam': 16, 'emotionally': 402, 'continues': 276, 'catch': 195, 'finding': 493, 'slowly': 1206, 'surely': 1287, 'happening': 601, 'forgotten': 518, 'serial': 1157, 'finest': 495, 'hoffman': 628, 'engaging': 408, 'flick': 503, 'serious': 1159, 'intriguing': 684, 'generally': 549, 'fit': 498, 'sadly': 1114, 'fame': 459, 'presented': 1015, 'torture': 1355, 'date': 318, 'conversation': 279, 'writing': 1488, 'sight': 1186, 'claim': 230, 'content': 274, 'meaning': 828, 'heavy': 612, 'leaf': 747, 'understanding': 1393, 'strength': 1262, 'tension': 1319, 'development': 348, 'ben': 123, 'length': 758, 'freedom': 528, 'appear': 67, 'morning': 867, 'call': 174, 'climax': 238, 'influence': 671, 'jim': 700, 'broken': 160, 'vhs': 1411, 'compare': 257, 'trip': 1374, 'pair': 950, 'mostly': 868, 'cross': 304, 'clean': 233, 'somehow': 1216, 'channel': 206, 'magic': 799, 'animation': 51, 'accept': 5, 'favourite': 472, 'generation': 550, 'anti': 59, 'consider': 268, 'conclusion': 266, 'thrown': 1342, 'hardly': 605, 'clich': 237, 'weak': 1443, 'terrific': 1322, 'free': 527, 'government': 576, 'dated': 319, 'decade': 328, 'epic': 419, 'visual': 1423, 'died': 353, 'standard': 1239, 'red': 1069, 'editing': 393, 'outstanding': 944, 'nearly': 894, 'light': 764, 'magical': 800, 'brief': 154, 'sci': 1127, 'fi': 481, 'hidden': 618, 'six': 1201, 'winner': 1462, 'stewart': 1251, 'jones': 706, 'henry': 615, 'lynch': 795, 'tear': 1310, 'ball': 98, 'wind': 1461, 'japanese': 695, 'creating': 295, 'kept': 715, 'bond': 141, 'learns': 750, 'america': 43, 'river': 1096, 'haunting': 607, 'food': 511, 'jack': 691, 'acted': 9, 'arthur': 76, 'experienced': 447, 'footage': 513, 'bird': 132, 'ahead': 29, 'criminal': 302, 'struggle': 1264, 'study': 1267, 'nobody': 907, 'crime': 301, 'village': 1417, 'remembered': 1079, 'step': 1248, 'gag': 542, 'cinematic': 227, 'worst': 1482, 'grow': 587, 'sensitive': 1153, 'adaptation': 17, 'hank': 598, 'fighting': 484, 'grew': 584, 'rent': 1082, 'journey': 708, 'carpenter': 187, 'daniel': 315, 'tough': 1360, 'match': 820, 'shadow': 1169, 'exciting': 441, 'fairly': 456, 'officer': 924, 'build': 169, 'mixed': 857, 'lived': 774, 'besides': 124, 'grace': 577, 'charles': 208, 'common': 254, 'knowledge': 728, 'ability': 0, 'discovers': 364, 'disney': 365, 'visuals': 1425, 'mouse': 871, 'superior': 1282, 'information': 672, 'visit': 1422, 'nightmare': 906, 'judge': 710, 'sam': 1116, 'wise': 1464, 'ryan': 1112, 'smith': 1210, 'thanks': 1326, 'traditional': 1365, 'sea': 1136, 'clip': 239, 'visually': 1424, 'wax': 1441, 'pain': 949, 'witness': 1469, 'ray': 1054, 'ann': 53, 'blind': 136, 'scott': 1131, 'mystery': 885, 'lord': 784, 'seven': 1163, 'thomas': 1334, 'fulci': 535, 'saying': 1120, 'jane': 694, 'mickey': 843, 'miyazaki': 858, 'ponyo': 997, 'anime': 52, 'texas': 1323, 'suspect': 1293, 'community': 255, 'hitler': 627, 'scary': 1123, 'christopher': 223, 'grown': 589, 'theatre': 1328, 'captain': 181, 'louis': 788, 'joseph': 707, 'technique': 1311, 'nazi': 892, 'soviet': 1229, 'winter': 1463, 'jewish': 699, 'jason': 696, 'frightening': 533, 'machine': 796, 'system': 1297, 'jerry': 698, 'von': 1427, 'perspective': 973, 'funniest': 539, 'humorous': 648, 'learned': 749, 'rabbit': 1045, 'reference': 1070, 'bruno': 164, 'prot': 1027, 'draw': 377, 'movement': 874, 'hitchcock': 626, 'wallace': 1432, 'cinderella': 225}\n"
     ]
    }
   ],
   "source": [
    "print(count_vector.vocabulary_)"
   ]
  },
  {
   "cell_type": "code",
   "execution_count": 13,
   "metadata": {},
   "outputs": [
    {
     "data": {
      "text/html": [
       "<div>\n",
       "<style scoped>\n",
       "    .dataframe tbody tr th:only-of-type {\n",
       "        vertical-align: middle;\n",
       "    }\n",
       "\n",
       "    .dataframe tbody tr th {\n",
       "        vertical-align: top;\n",
       "    }\n",
       "\n",
       "    .dataframe thead th {\n",
       "        text-align: right;\n",
       "    }\n",
       "</style>\n",
       "<table border=\"1\" class=\"dataframe\">\n",
       "  <thead>\n",
       "    <tr style=\"text-align: right;\">\n",
       "      <th></th>\n",
       "      <th>ability</th>\n",
       "      <th>able</th>\n",
       "      <th>absolutely</th>\n",
       "      <th>academy</th>\n",
       "      <th>accent</th>\n",
       "      <th>accept</th>\n",
       "      <th>accident</th>\n",
       "      <th>across</th>\n",
       "      <th>act</th>\n",
       "      <th>acted</th>\n",
       "      <th>...</th>\n",
       "      <th>wrong</th>\n",
       "      <th>wrote</th>\n",
       "      <th>year</th>\n",
       "      <th>yes</th>\n",
       "      <th>yet</th>\n",
       "      <th>york</th>\n",
       "      <th>young</th>\n",
       "      <th>younger</th>\n",
       "      <th>youth</th>\n",
       "      <th>zombie</th>\n",
       "    </tr>\n",
       "  </thead>\n",
       "  <tbody>\n",
       "    <tr>\n",
       "      <th>0</th>\n",
       "      <td>0</td>\n",
       "      <td>0</td>\n",
       "      <td>0</td>\n",
       "      <td>0</td>\n",
       "      <td>0</td>\n",
       "      <td>0</td>\n",
       "      <td>0</td>\n",
       "      <td>0</td>\n",
       "      <td>0</td>\n",
       "      <td>0</td>\n",
       "      <td>...</td>\n",
       "      <td>0</td>\n",
       "      <td>0</td>\n",
       "      <td>0</td>\n",
       "      <td>0</td>\n",
       "      <td>0</td>\n",
       "      <td>0</td>\n",
       "      <td>0</td>\n",
       "      <td>0</td>\n",
       "      <td>0</td>\n",
       "      <td>0</td>\n",
       "    </tr>\n",
       "    <tr>\n",
       "      <th>1</th>\n",
       "      <td>0</td>\n",
       "      <td>0</td>\n",
       "      <td>0</td>\n",
       "      <td>0</td>\n",
       "      <td>0</td>\n",
       "      <td>0</td>\n",
       "      <td>0</td>\n",
       "      <td>0</td>\n",
       "      <td>0</td>\n",
       "      <td>0</td>\n",
       "      <td>...</td>\n",
       "      <td>0</td>\n",
       "      <td>0</td>\n",
       "      <td>2</td>\n",
       "      <td>0</td>\n",
       "      <td>1</td>\n",
       "      <td>0</td>\n",
       "      <td>1</td>\n",
       "      <td>0</td>\n",
       "      <td>0</td>\n",
       "      <td>0</td>\n",
       "    </tr>\n",
       "    <tr>\n",
       "      <th>2</th>\n",
       "      <td>0</td>\n",
       "      <td>0</td>\n",
       "      <td>0</td>\n",
       "      <td>0</td>\n",
       "      <td>0</td>\n",
       "      <td>0</td>\n",
       "      <td>0</td>\n",
       "      <td>0</td>\n",
       "      <td>0</td>\n",
       "      <td>0</td>\n",
       "      <td>...</td>\n",
       "      <td>1</td>\n",
       "      <td>0</td>\n",
       "      <td>1</td>\n",
       "      <td>0</td>\n",
       "      <td>0</td>\n",
       "      <td>0</td>\n",
       "      <td>0</td>\n",
       "      <td>0</td>\n",
       "      <td>0</td>\n",
       "      <td>0</td>\n",
       "    </tr>\n",
       "    <tr>\n",
       "      <th>3</th>\n",
       "      <td>0</td>\n",
       "      <td>0</td>\n",
       "      <td>0</td>\n",
       "      <td>0</td>\n",
       "      <td>0</td>\n",
       "      <td>0</td>\n",
       "      <td>0</td>\n",
       "      <td>0</td>\n",
       "      <td>0</td>\n",
       "      <td>0</td>\n",
       "      <td>...</td>\n",
       "      <td>0</td>\n",
       "      <td>0</td>\n",
       "      <td>0</td>\n",
       "      <td>0</td>\n",
       "      <td>1</td>\n",
       "      <td>0</td>\n",
       "      <td>0</td>\n",
       "      <td>0</td>\n",
       "      <td>0</td>\n",
       "      <td>0</td>\n",
       "    </tr>\n",
       "    <tr>\n",
       "      <th>4</th>\n",
       "      <td>0</td>\n",
       "      <td>0</td>\n",
       "      <td>0</td>\n",
       "      <td>0</td>\n",
       "      <td>1</td>\n",
       "      <td>0</td>\n",
       "      <td>0</td>\n",
       "      <td>0</td>\n",
       "      <td>0</td>\n",
       "      <td>0</td>\n",
       "      <td>...</td>\n",
       "      <td>0</td>\n",
       "      <td>0</td>\n",
       "      <td>0</td>\n",
       "      <td>0</td>\n",
       "      <td>0</td>\n",
       "      <td>0</td>\n",
       "      <td>0</td>\n",
       "      <td>0</td>\n",
       "      <td>0</td>\n",
       "      <td>0</td>\n",
       "    </tr>\n",
       "    <tr>\n",
       "      <th>...</th>\n",
       "      <td>...</td>\n",
       "      <td>...</td>\n",
       "      <td>...</td>\n",
       "      <td>...</td>\n",
       "      <td>...</td>\n",
       "      <td>...</td>\n",
       "      <td>...</td>\n",
       "      <td>...</td>\n",
       "      <td>...</td>\n",
       "      <td>...</td>\n",
       "      <td>...</td>\n",
       "      <td>...</td>\n",
       "      <td>...</td>\n",
       "      <td>...</td>\n",
       "      <td>...</td>\n",
       "      <td>...</td>\n",
       "      <td>...</td>\n",
       "      <td>...</td>\n",
       "      <td>...</td>\n",
       "      <td>...</td>\n",
       "      <td>...</td>\n",
       "    </tr>\n",
       "    <tr>\n",
       "      <th>4925</th>\n",
       "      <td>0</td>\n",
       "      <td>0</td>\n",
       "      <td>0</td>\n",
       "      <td>0</td>\n",
       "      <td>0</td>\n",
       "      <td>0</td>\n",
       "      <td>0</td>\n",
       "      <td>0</td>\n",
       "      <td>0</td>\n",
       "      <td>0</td>\n",
       "      <td>...</td>\n",
       "      <td>1</td>\n",
       "      <td>0</td>\n",
       "      <td>1</td>\n",
       "      <td>0</td>\n",
       "      <td>3</td>\n",
       "      <td>0</td>\n",
       "      <td>2</td>\n",
       "      <td>0</td>\n",
       "      <td>0</td>\n",
       "      <td>0</td>\n",
       "    </tr>\n",
       "    <tr>\n",
       "      <th>4926</th>\n",
       "      <td>0</td>\n",
       "      <td>0</td>\n",
       "      <td>0</td>\n",
       "      <td>0</td>\n",
       "      <td>0</td>\n",
       "      <td>0</td>\n",
       "      <td>0</td>\n",
       "      <td>0</td>\n",
       "      <td>0</td>\n",
       "      <td>0</td>\n",
       "      <td>...</td>\n",
       "      <td>0</td>\n",
       "      <td>0</td>\n",
       "      <td>0</td>\n",
       "      <td>0</td>\n",
       "      <td>0</td>\n",
       "      <td>0</td>\n",
       "      <td>0</td>\n",
       "      <td>0</td>\n",
       "      <td>0</td>\n",
       "      <td>0</td>\n",
       "    </tr>\n",
       "    <tr>\n",
       "      <th>4927</th>\n",
       "      <td>0</td>\n",
       "      <td>0</td>\n",
       "      <td>0</td>\n",
       "      <td>0</td>\n",
       "      <td>0</td>\n",
       "      <td>0</td>\n",
       "      <td>0</td>\n",
       "      <td>0</td>\n",
       "      <td>1</td>\n",
       "      <td>0</td>\n",
       "      <td>...</td>\n",
       "      <td>0</td>\n",
       "      <td>0</td>\n",
       "      <td>0</td>\n",
       "      <td>0</td>\n",
       "      <td>0</td>\n",
       "      <td>0</td>\n",
       "      <td>1</td>\n",
       "      <td>0</td>\n",
       "      <td>0</td>\n",
       "      <td>0</td>\n",
       "    </tr>\n",
       "    <tr>\n",
       "      <th>4928</th>\n",
       "      <td>0</td>\n",
       "      <td>0</td>\n",
       "      <td>0</td>\n",
       "      <td>0</td>\n",
       "      <td>0</td>\n",
       "      <td>0</td>\n",
       "      <td>0</td>\n",
       "      <td>0</td>\n",
       "      <td>0</td>\n",
       "      <td>0</td>\n",
       "      <td>...</td>\n",
       "      <td>0</td>\n",
       "      <td>0</td>\n",
       "      <td>1</td>\n",
       "      <td>0</td>\n",
       "      <td>0</td>\n",
       "      <td>0</td>\n",
       "      <td>0</td>\n",
       "      <td>0</td>\n",
       "      <td>0</td>\n",
       "      <td>0</td>\n",
       "    </tr>\n",
       "    <tr>\n",
       "      <th>4929</th>\n",
       "      <td>0</td>\n",
       "      <td>0</td>\n",
       "      <td>0</td>\n",
       "      <td>0</td>\n",
       "      <td>0</td>\n",
       "      <td>0</td>\n",
       "      <td>0</td>\n",
       "      <td>0</td>\n",
       "      <td>0</td>\n",
       "      <td>0</td>\n",
       "      <td>...</td>\n",
       "      <td>0</td>\n",
       "      <td>0</td>\n",
       "      <td>0</td>\n",
       "      <td>0</td>\n",
       "      <td>0</td>\n",
       "      <td>0</td>\n",
       "      <td>0</td>\n",
       "      <td>0</td>\n",
       "      <td>0</td>\n",
       "      <td>0</td>\n",
       "    </tr>\n",
       "  </tbody>\n",
       "</table>\n",
       "<p>4930 rows × 1500 columns</p>\n",
       "</div>"
      ],
      "text/plain": [
       "      ability  able  absolutely  academy  accent  accept  accident  across  \\\n",
       "0           0     0           0        0       0       0         0       0   \n",
       "1           0     0           0        0       0       0         0       0   \n",
       "2           0     0           0        0       0       0         0       0   \n",
       "3           0     0           0        0       0       0         0       0   \n",
       "4           0     0           0        0       1       0         0       0   \n",
       "...       ...   ...         ...      ...     ...     ...       ...     ...   \n",
       "4925        0     0           0        0       0       0         0       0   \n",
       "4926        0     0           0        0       0       0         0       0   \n",
       "4927        0     0           0        0       0       0         0       0   \n",
       "4928        0     0           0        0       0       0         0       0   \n",
       "4929        0     0           0        0       0       0         0       0   \n",
       "\n",
       "      act  acted  ...  wrong  wrote  year  yes  yet  york  young  younger  \\\n",
       "0       0      0  ...      0      0     0    0    0     0      0        0   \n",
       "1       0      0  ...      0      0     2    0    1     0      1        0   \n",
       "2       0      0  ...      1      0     1    0    0     0      0        0   \n",
       "3       0      0  ...      0      0     0    0    1     0      0        0   \n",
       "4       0      0  ...      0      0     0    0    0     0      0        0   \n",
       "...   ...    ...  ...    ...    ...   ...  ...  ...   ...    ...      ...   \n",
       "4925    0      0  ...      1      0     1    0    3     0      2        0   \n",
       "4926    0      0  ...      0      0     0    0    0     0      0        0   \n",
       "4927    1      0  ...      0      0     0    0    0     0      1        0   \n",
       "4928    0      0  ...      0      0     1    0    0     0      0        0   \n",
       "4929    0      0  ...      0      0     0    0    0     0      0        0   \n",
       "\n",
       "      youth  zombie  \n",
       "0         0       0  \n",
       "1         0       0  \n",
       "2         0       0  \n",
       "3         0       0  \n",
       "4         0       0  \n",
       "...     ...     ...  \n",
       "4925      0       0  \n",
       "4926      0       0  \n",
       "4927      0       0  \n",
       "4928      0       0  \n",
       "4929      0       0  \n",
       "\n",
       "[4930 rows x 1500 columns]"
      ]
     },
     "execution_count": 13,
     "metadata": {},
     "output_type": "execute_result"
    }
   ],
   "source": [
    "d = pd.DataFrame(X,columns=count_vector.get_feature_names())\n",
    "d"
   ]
  },
  {
   "cell_type": "code",
   "execution_count": 14,
   "metadata": {},
   "outputs": [
    {
     "data": {
      "text/plain": [
       "array([0, 0, 0, ..., 0, 0, 0])"
      ]
     },
     "execution_count": 14,
     "metadata": {},
     "output_type": "execute_result"
    }
   ],
   "source": [
    "# convert classes to number\n",
    "y = encoder = LabelEncoder()\n",
    "y = encoder.fit_transform(data['sentiment'])\n",
    "y"
   ]
  },
  {
   "cell_type": "code",
   "execution_count": 15,
   "metadata": {},
   "outputs": [],
   "source": [
    "X_train, X_test, y_train, y_test = train_test_split(X,y, test_size =0.3)\n"
   ]
  },
  {
   "cell_type": "code",
   "execution_count": 16,
   "metadata": {},
   "outputs": [
    {
     "name": "stdout",
     "output_type": "stream",
     "text": [
      "[[0 0 0 ... 0 0 0]\n",
      " [0 0 0 ... 0 0 0]\n",
      " [0 0 0 ... 0 0 0]\n",
      " ...\n",
      " [0 0 0 ... 0 0 0]\n",
      " [0 0 0 ... 0 0 0]\n",
      " [0 0 0 ... 0 0 0]]\n"
     ]
    }
   ],
   "source": [
    "print(X_test)"
   ]
  },
  {
   "cell_type": "code",
   "execution_count": 17,
   "metadata": {},
   "outputs": [],
   "source": [
    "from sklearn.svm import SVC\n",
    "from sklearn.model_selection import GridSearchCV\n",
    "\n",
    "clf = SVC()\n",
    "grid =  {'C':[0.5,1,1.5,5,5.5,10,10.5],\n",
    "     'gamma':[0.000001, 0.0001, 0.001],\n",
    "     'kernel':['rbf', 'poly']}\n",
    "model = GridSearchCV(clf, grid,cv=2)"
   ]
  },
  {
   "cell_type": "code",
   "execution_count": 18,
   "metadata": {},
   "outputs": [
    {
     "data": {
      "text/plain": [
       "GridSearchCV(cv=2, error_score=nan,\n",
       "             estimator=SVC(C=1.0, break_ties=False, cache_size=200,\n",
       "                           class_weight=None, coef0=0.0,\n",
       "                           decision_function_shape='ovr', degree=3,\n",
       "                           gamma='scale', kernel='rbf', max_iter=-1,\n",
       "                           probability=False, random_state=None, shrinking=True,\n",
       "                           tol=0.001, verbose=False),\n",
       "             iid='deprecated', n_jobs=None,\n",
       "             param_grid={'C': [0.5, 1, 1.5, 5, 5.5, 10, 10.5],\n",
       "                         'gamma': [1e-06, 0.0001, 0.001],\n",
       "                         'kernel': ['rbf', 'poly']},\n",
       "             pre_dispatch='2*n_jobs', refit=True, return_train_score=False,\n",
       "             scoring=None, verbose=0)"
      ]
     },
     "execution_count": 18,
     "metadata": {},
     "output_type": "execute_result"
    }
   ],
   "source": [
    "# train model\n",
    "model.fit(X_train, y_train)"
   ]
  },
  {
   "cell_type": "code",
   "execution_count": 19,
   "metadata": {},
   "outputs": [
    {
     "data": {
      "text/plain": [
       "array([1, 0, 1, ..., 1, 1, 1])"
      ]
     },
     "execution_count": 19,
     "metadata": {},
     "output_type": "execute_result"
    }
   ],
   "source": [
    "# Predicting the Test set results \n",
    "\n",
    "y_pred=model.best_estimator_.predict(X_test)\n",
    "y_pred"
   ]
  },
  {
   "cell_type": "code",
   "execution_count": 20,
   "metadata": {},
   "outputs": [
    {
     "name": "stdout",
     "output_type": "stream",
     "text": [
      "Test model accuracy:  0.9127789046653144\n",
      "Test model Precision 0.8935897435897436\n",
      "Test model Recall:  0.9380888290713324\n",
      "Test model F1:  0.9152987524622456\n"
     ]
    }
   ],
   "source": [
    "from sklearn.metrics import accuracy_score\n",
    "from sklearn.metrics import precision_score\n",
    "from sklearn.metrics import recall_score\n",
    "from sklearn.metrics import f1_score\n",
    "\n",
    "#print('Train model accuracy: ',accuracy_score(y_train, y_pred))\n",
    "print('Test model accuracy: ',accuracy_score(y_test, y_pred))\n",
    "print('Test model Precision',precision_score(y_test, y_pred))\n",
    "print('Test model Recall: ',recall_score(y_test, y_pred))\n",
    "print('Test model F1: ',f1_score(y_test, y_pred))"
   ]
  },
  {
   "cell_type": "code",
   "execution_count": 21,
   "metadata": {},
   "outputs": [],
   "source": [
    "# input1 statment\n",
    "\n",
    "#You can see blood in every scene\n",
    "#This movie full of pornography \n",
    "#The brother killed his sister\n",
    "#It’s fulll of drugs, alcohol and wine\n",
    "#It’s a horror movie\n",
    "#There’s a scary ghost \n",
    "#Nudity scenes are in this movie\n",
    "#You can see blood in every scene\n",
    "\n",
    "test_review1 = ['Nudity scenes are in this movie'] "
   ]
  },
  {
   "cell_type": "code",
   "execution_count": 22,
   "metadata": {},
   "outputs": [
    {
     "name": "stdout",
     "output_type": "stream",
     "text": [
      "  (0, 875)\t1\n",
      "  (0, 916)\t1\n"
     ]
    }
   ],
   "source": [
    "# convert to number\n",
    "test_vector = count_vector.transform(test_review1)\n",
    "print(test_vector)\n",
    "test_vector = test_vector.toarray()"
   ]
  },
  {
   "cell_type": "code",
   "execution_count": 23,
   "metadata": {},
   "outputs": [
    {
     "name": "stdout",
     "output_type": "stream",
     "text": [
      "Nudity scenes are in this movie is:  above 18\n"
     ]
    }
   ],
   "source": [
    "## encodeing predict class\n",
    "\n",
    "text_predict_class = encoder.inverse_transform(model.predict(test_vector))\n",
    "print(test_review1[0], 'is: ',text_predict_class[0])"
   ]
  },
  {
   "cell_type": "code",
   "execution_count": 24,
   "metadata": {},
   "outputs": [],
   "source": [
    "# input2 statment\n",
    "#All my kids liked this movie\n",
    "#This is the best cartoon movie\n",
    "#This is an animation scenes\n",
    "test_review2 = ['This is the best cartoon movie'] "
   ]
  },
  {
   "cell_type": "code",
   "execution_count": 25,
   "metadata": {},
   "outputs": [],
   "source": [
    "# convert to number\n",
    "test_vector = count_vector.transform(test_review2)\n",
    "test_vector = test_vector.toarray()"
   ]
  },
  {
   "cell_type": "code",
   "execution_count": 26,
   "metadata": {},
   "outputs": [
    {
     "name": "stdout",
     "output_type": "stream",
     "text": [
      "This is the best cartoon movie is:  under age\n"
     ]
    }
   ],
   "source": [
    "## encodeing predict class\n",
    "text_predict_class = encoder.inverse_transform(model.predict(test_vector))\n",
    "print(test_review2[0], 'is: ',text_predict_class[0])"
   ]
  },
  {
   "cell_type": "code",
   "execution_count": null,
   "metadata": {},
   "outputs": [],
   "source": []
  }
 ],
 "metadata": {
  "kernelspec": {
   "display_name": "Python 3",
   "language": "python",
   "name": "python3"
  },
  "language_info": {
   "codemirror_mode": {
    "name": "ipython",
    "version": 3
   },
   "file_extension": ".py",
   "mimetype": "text/x-python",
   "name": "python",
   "nbconvert_exporter": "python",
   "pygments_lexer": "ipython3",
   "version": "3.7.0"
  }
 },
 "nbformat": 4,
 "nbformat_minor": 4
}
